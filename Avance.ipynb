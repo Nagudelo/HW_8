{
 "metadata": {
  "name": ""
 },
 "nbformat": 3,
 "nbformat_minor": 0,
 "worksheets": [
  {
   "cells": [
    {
     "cell_type": "code",
     "collapsed": false,
     "input": [
      "%pylab inline\n",
      "from scipy.interpolate import griddata"
     ],
     "language": "python",
     "metadata": {},
     "outputs": [
      {
       "output_type": "stream",
       "stream": "stdout",
       "text": [
        "Populating the interactive namespace from numpy and matplotlib\n"
       ]
      }
     ],
     "prompt_number": 1
    },
    {
     "cell_type": "code",
     "collapsed": false,
     "input": [
      "#load the list of points\n",
      "obs_data = loadtxt(\"dimer_observations.dat\")\n",
      "t_obse = obs_data[:,0]\n",
      "p_obse = obs_data[:,1]\n",
      "\n",
      "t_obs = empty(0)\n",
      "p_obs = empty(0)\n",
      "\n",
      "for i in range(3,size(t_obse)):\n",
      "    t_obs = append(t_obs, t_obse[i])\n",
      "    p_obs = append(p_obs, p_obse[i])\n",
      "\n",
      "print size(t_obs)\n",
      "scatter(t_obs,p_obs)"
     ],
     "language": "python",
     "metadata": {},
     "outputs": [
      {
       "output_type": "stream",
       "stream": "stdout",
       "text": [
        "16\n"
       ]
      },
      {
       "metadata": {},
       "output_type": "pyout",
       "prompt_number": 2,
       "text": [
        "<matplotlib.collections.PathCollection at 0x3d70710>"
       ]
      },
      {
       "metadata": {},
       "output_type": "display_data",
       "png": "[encoded data removed]",
       "text": [
        "<matplotlib.figure.Figure at 0x3bb0d50>"
       ]
      }
     ],
     "prompt_number": 2
    },
    {
     "cell_type": "code",
     "collapsed": false,
     "input": [
      "def fPrima(P, alfa, beta, km_1, km_2, S_0):\n",
      "    \n",
      "    primerTermino = alfa*(S_0 - P)/(km_1 + S_0 - P)\n",
      "    segundoTermino = beta*P/(km_2 + P)\n",
      "    \n",
      "    return (primerTermino - segundoTermino)"
     ],
     "language": "python",
     "metadata": {},
     "outputs": [],
     "prompt_number": 3
    },
    {
     "cell_type": "code",
     "collapsed": false,
     "input": [
      "def Rungekutta4 (alfa, beta, km_1, km_2, S_0):\n",
      "    \n",
      "    h=0.5\n",
      "    n_points = int((25.0+h)/h)\n",
      "    \n",
      "    t_model = empty(0)\n",
      "    p_model = empty(0)\n",
      "    \n",
      "    t_model = append(t_model,t_obs[0])\n",
      "    p_model = append(p_model,p_obs[0])\n",
      "    \n",
      "    for i in range(1,n_points):\n",
      "        \n",
      "        k1 = fPrima(p_model[i-1], alfa, beta,km_1, km_2, S_0)\n",
      "        \n",
      "        #primer paso\n",
      "        t1 = t_model[i-1]\n",
      "        p1 = p_model[i-1] + (h/2.0) * k1\n",
      "        k2 = fPrima(p1, alfa, beta, km_1, km_2,  S_0)\n",
      "    \n",
      "        #second step\n",
      "        t2 = t_model[i-1] + (h/2.0)\n",
      "        p2 = p_model[i-1] + (h/2.0) * k2\n",
      "        k3 = fPrima(p2, alfa, beta, km_1, km_2, S_0)\n",
      "        \n",
      "        #third step\n",
      "        t3 = t_model[i-1] + h\n",
      "        p3 = p_model[i-1] + h * k3\n",
      "        k4 = fPrima(p3, alfa, beta, km_1, km_2,  S_0)\n",
      "    \n",
      "        #fourth step\n",
      "        promedio = (1.0/6.0)*(k1 + 2.0*k2 + 2.0*k3 + k4)\n",
      "        \n",
      "    \n",
      "        t_model = append(t_model,t_model[i-1] + h)\n",
      "        p_model = append(p_model,p_model[i-1] + h*promedio)\n",
      "        \n",
      "        \n",
      "        \n",
      "    return p_model, t_model"
     ],
     "language": "python",
     "metadata": {},
     "outputs": [],
     "prompt_number": 4
    },
    {
     "cell_type": "code",
     "collapsed": false,
     "input": [
      "#No comparar floats\n",
      "def filtrar(alfa,beta, km_1, km_2, S_0):\n",
      "    \n",
      "    tD_model = empty(0)\n",
      "    pD_model = empty(0)\n",
      "    \n",
      "    for i in range(1,size(t_obs)):\n",
      "\n",
      "        tD_model = append(tD_model,(Rungekutta4(alfa,beta,km_1,km_2,S_0)[1])[(t_obs[i-1]-t_obs[0])/0.5])\n",
      "        pD_model = append(pD_model,(Rungekutta4(alfa,beta,km_1,km_2,S_0)[0])[(t_obs[i-1]-t_obs[0])/0.5])\n",
      "        \n",
      "    return pD_model, tD_model"
     ],
     "language": "python",
     "metadata": {},
     "outputs": [],
     "prompt_number": 5
    },
    {
     "cell_type": "code",
     "collapsed": false,
     "input": [
      "def chi2(p_obs, p_model):\n",
      "    \n",
      "    #chi_squared = sum((p_obs-p_model)**2) \n",
      "    \n",
      "    chi_squared = 0\n",
      "    \n",
      "    for i in range(1,size(p_obs)):\n",
      "        \n",
      "        chi_squared= chi_squared + (p_obs[i-1] - p_model[i-1])**2\n",
      "    \n",
      "    return chi_squared"
     ],
     "language": "python",
     "metadata": {},
     "outputs": [],
     "prompt_number": 6
    },
    {
     "cell_type": "code",
     "collapsed": false,
     "input": [
      "alfa_walk = empty((0)) #this is an empty list to keep all the steps\n",
      "beta_walk = empty((0))\n",
      "S_0_walk = empty((0))\n",
      "km_1_walk = empty((0))\n",
      "km_2_walk = empty((0))\n",
      "\n",
      "alfa_walk = append(alfa_walk, 2.5)\n",
      "beta_walk = append(beta_walk, 7.0)\n",
      "S_0_walk = append(S_0_walk, 5.0)\n",
      "km_1_walk = append(km_1_walk, 5.0)\n",
      "km_2_walk = append(km_2_walk, 6.0)\n",
      "print alfa_walk, beta_walk,S_0_walk,km_1_walk,km_2_walk"
     ],
     "language": "python",
     "metadata": {},
     "outputs": [
      {
       "output_type": "stream",
       "stream": "stdout",
       "text": [
        "[ 2.5] [ 7.] [ 5.] [ 5.] [ 6.]\n"
       ]
      }
     ],
     "prompt_number": 7
    },
    {
     "cell_type": "code",
     "collapsed": false,
     "input": [
      "#Vamos a realizar interaciones para la estimaci\u00f3n de par\u00e1metros\n",
      "\n",
      "iterations = 500\n",
      "chi2A = empty(0)\n",
      "\n",
      "for i in range(iterations):\n",
      "    \n",
      "\n",
      "    alfa_prime = abs(np.random.normal(alfa_walk[i], 0.1))\n",
      "    beta_prime = abs(np.random.normal(beta_walk[i], 0.1))\n",
      "    S_0_prime = abs(np.random.normal(S_0_walk[i], 0.1))\n",
      "    km_1_prime = abs(np.random.normal(km_1_walk[i], 0.1))\n",
      "    km_2_prime = abs(np.random.normal(km_2_walk[i], 0.1))\n",
      "        \n",
      "    P_Rungekutta4_init = filtrar(alfa_walk[i], beta_walk[i], km_1_walk[i], km_2_walk[i], S_0_walk[i])[0]\n",
      "    P_Rungekutta4_prime = filtrar(alfa_prime, beta_prime, km_1_prime, km_2_prime, S_0_prime)[0]\n",
      "    t_Rungekutta4_init = filtrar(alfa_walk[i], beta_walk[i], km_1_walk[i], km_2_walk[i], S_0_walk[i])[1]\n",
      "    t_Rungekutta4_prime = filtrar(alfa_prime, beta_prime, km_1_prime, km_2_prime, S_0_prime)[1]\n",
      "    \n",
      "    chi_p = chi2(p_obs, P_Rungekutta4_prime)\n",
      "    chi_i = chi2(p_obs, P_Rungekutta4_init)\n",
      "    \n",
      "    lam = chi_p - chi_i\n",
      "    \n",
      "    if (i == 0):\n",
      "        chi2A = append(chi2A, chi_i)\n",
      "    \n",
      "    if(lam <= 0.0):\n",
      "    \n",
      "        alfa_walk = append(alfa_walk, alfa_prime)\n",
      "        beta_walk = append(beta_walk, beta_prime)\n",
      "        S_0_walk = append(S_0_walk, S_0_prime)\n",
      "        km_1_walk = append(km_1_walk, km_1_prime)\n",
      "        km_2_walk = append(km_2_walk, km_2_prime)\n",
      "        \n",
      "        chi2A = append(chi2A, chi_p)\n",
      "           \n",
      "    else:\n",
      "        gamma = random.random()\n",
      "        \n",
      "        if (gamma <= exp(-lam)):\n",
      "            alfa_walk = append(alfa_walk, alfa_prime)\n",
      "            beta_walk = append(beta_walk, beta_prime)\n",
      "            S_0_walk = append(S_0_walk, S_0_prime)\n",
      "            km_1_walk = append(km_1_walk, km_1_prime)\n",
      "            km_2_walk = append(km_2_walk, km_2_prime)\n",
      "            \n",
      "            chi2A = append(chi2A, chi_p)\n",
      "            \n",
      "        else: \n",
      "            alfa_walk = append(alfa_walk, alfa_walk[i])\n",
      "            beta_walk = append(beta_walk, beta_walk[i])\n",
      "            S_0_walk = append(S_0_walk, S_0_walk[i])\n",
      "            km_1_walk = append(km_1_walk, km_1_walk[i])\n",
      "            km_2_walk = append(km_2_walk, km_2_walk[i])\n",
      "            chi2A = append(chi2A, chi_i)\n",
      "            \n",
      "print argmin(chi2A)\n"
     ],
     "language": "python",
     "metadata": {},
     "outputs": [
      {
       "output_type": "stream",
       "stream": "stdout",
       "text": [
        "351\n"
       ]
      }
     ],
     "prompt_number": 8
    },
    {
     "cell_type": "code",
     "collapsed": false,
     "input": [
      "print type(alfa_walk)\n",
      "print argmin(chi2A)\n",
      "chi2A[argmin(chi2A)]"
     ],
     "language": "python",
     "metadata": {},
     "outputs": [
      {
       "output_type": "stream",
       "stream": "stdout",
       "text": [
        "<type 'numpy.ndarray'>\n",
        "351\n"
       ]
      },
      {
       "metadata": {},
       "output_type": "pyout",
       "prompt_number": 9,
       "text": [
        "4.3945478965527025"
       ]
      }
     ],
     "prompt_number": 9
    },
    {
     "cell_type": "code",
     "collapsed": false,
     "input": [
      "plot(alfa_walk,beta_walk,\"r\")\n",
      "plot(alfa_walk[0],beta_walk[0],\"yo\")\n",
      "plot(alfa_walk[-1],beta_walk[-1],\"co\")\n",
      "plot(alfa_walk[-2],beta_walk[-1],\"co\")\n",
      "plot(alfa_walk[-3],beta_walk[-1],\"co\")\n",
      "plot(alfa_walk[-4],beta_walk[-1],\"co\")\n",
      "plot(alfa_walk[-5],beta_walk[-1],\"co\")\n",
      "plot(alfa_walk[-6],beta_walk[-1],\"co\")\n",
      "plot(alfa_walk[-7],beta_walk[-1],\"co\")\n",
      "scatter(alfa_walk,beta_walk)\n",
      "plt.show()\n",
      "plt.close()\n"
     ],
     "language": "python",
     "metadata": {},
     "outputs": [
      {
       "metadata": {},
       "output_type": "display_data",
       "png": "[encoded data removed]",
       "text": [
        "<matplotlib.figure.Figure at 0x3ba5f90>"
       ]
      }
     ],
     "prompt_number": 10
    },
    {
     "cell_type": "code",
     "collapsed": false,
     "input": [
      "plot(km_1_walk,km_2_walk,\"r\")\n",
      "plot(km_1_walk[0],km_2_walk[0],\"yo\")\n",
      "plot(km_1_walk[-1],km_2_walk[-1],\"co\")\n",
      "plot(km_1_walk[-2],km_2_walk[-1],\"co\")\n",
      "plot(km_1_walk[-3],km_2_walk[-1],\"co\")\n",
      "plot(km_1_walk[-4],km_2_walk[-1],\"co\")\n",
      "plot(km_1_walk[-5],km_2_walk[-1],\"co\")\n",
      "plot(km_1_walk[-6],km_2_walk[-1],\"co\")\n",
      "plot(km_1_walk[-7],km_2_walk[-1],\"co\")\n",
      "scatter(km_1_walk,km_2_walk)\n",
      "plt.show()\n",
      "plt.close()\n"
     ],
     "language": "python",
     "metadata": {},
     "outputs": [
      {
       "metadata": {},
       "output_type": "display_data",
       "png": "[encoded data removed]",
       "text": [
        "<matplotlib.figure.Figure at 0x3e80a10>"
       ]
      }
     ],
     "prompt_number": 11
    },
    {
     "cell_type": "code",
     "collapsed": false,
     "input": [
      "j = 0.0\n",
      "P=Rungekutta4(alfa_walk[argmin(chi2A)-j],beta_walk[argmin(chi2A)-j],km_1_walk[argmin(chi2A)-j],km_2_walk[argmin(chi2A)-j],S_0_walk[argmin(chi2A)-j])[0]\n",
      "t=Rungekutta4(alfa_walk[argmin(chi2A)-j],beta_walk[argmin(chi2A)-j],km_1_walk[argmin(chi2A)-j],km_2_walk[argmin(chi2A)-j],S_0_walk[argmin(chi2A)-j])[1]\n",
      "\n",
      "alfa_min = alfa_walk[argmin(chi2A)]\n",
      "beta_min = beta_walk[argmin(chi2A)]\n",
      "km_1_min = km_1_walk[argmin(chi2A)]\n",
      "km_2_min = km_2_walk[argmin(chi2A)]\n",
      "S_0_min = S_0_walk[argmin(chi2A)]\n",
      "\n",
      "print (alfa_walk[argmin(chi2A)-j],beta_walk[argmin(chi2A)-j],km_1_walk[argmin(chi2A)-j],km_2_walk[argmin(chi2A)-j],S_0_walk[argmin(chi2A)-j])"
     ],
     "language": "python",
     "metadata": {},
     "outputs": [
      {
       "output_type": "stream",
       "stream": "stdout",
       "text": [
        "(3.3979112885942482, 7.0153397439767993, 5.8515713764730961, 4.5707272457756378, 3.7956089412524219)\n"
       ]
      }
     ],
     "prompt_number": 12
    },
    {
     "cell_type": "code",
     "collapsed": false,
     "input": [
      "plot(t,P,\"r-\",label=\"Modelo teorico\")\n",
      "scatter(t_obs,p_obs,label=\"Datos experimentales\")\n",
      "\n",
      "title(\"Grafica de P(t) vs. t\",size=25)\n",
      "xlabel(\"$t$\",size=20)\n",
      "ylabel(\"$P(t)$\",size=20,rotation=\"horizontal\" )\n",
      "legend()\n",
      "savefig(\"Grafica_P(t).jpg\")"
     ],
     "language": "python",
     "metadata": {},
     "outputs": [
      {
       "metadata": {},
       "output_type": "display_data",
       "png": "[encoded data removed]",
       "text": [
        "<matplotlib.figure.Figure at 0x3bb0750>"
       ]
      }
     ],
     "prompt_number": 13
    },
    {
     "cell_type": "code",
     "collapsed": false,
     "input": [
      "def alfa_beta(x,y):\n",
      "    \n",
      "    dis1_chi2 = chi2(p_obs, filtrar(x,y,km_1_min,km_2_min,S_0_min)[0])\n",
      "    \n",
      "    return dis1_chi2"
     ],
     "language": "python",
     "metadata": {},
     "outputs": [],
     "prompt_number": 14
    },
    {
     "cell_type": "code",
     "collapsed": false,
     "input": [
      "x0 = linspace(0, 10, 100)\n",
      "y0 = linspace(0, 10, 100)"
     ],
     "language": "python",
     "metadata": {},
     "outputs": [],
     "prompt_number": 15
    },
    {
     "cell_type": "code",
     "collapsed": false,
     "input": [
      "#X,Y = meshgrid(x0,y0)\n",
      "\n",
      "grid1 = zeros((100,100))\n",
      "\n",
      "for i in range(100):\n",
      "    for j in range (100):\n",
      "        grid1[i,j] = alfa_beta(x0[i],y0[j])"
     ],
     "language": "python",
     "metadata": {},
     "outputs": [
      {
       "output_type": "stream",
       "stream": "stdout",
       "text": [
        "[[   1913.75          2382.92263027    2899.4173321  ...,  233327.65319198\n",
        "   237563.42431474  241836.13149756]\n",
        " [   1611.86325018    2043.60226547    2523.06400576 ...,  229603.55480568\n",
        "   233804.15921251  238041.69801614]\n",
        " [   1338.71250569    1733.0566858     2175.5551827  ...,  225912.51551148\n",
        "   230077.96850947  234280.35403944]\n",
        " ..., \n",
        " [   5494.23232628    5455.79167238    5466.36589196 ...,   18857.00816029\n",
        "    19885.87716017   20946.63451899]\n",
        " [   5512.50458145    5471.88081721    5445.99561827 ...,   18053.81409746\n",
        "    19055.02235177   20087.90022821]\n",
        " [   5530.43266293    5487.52283468    5456.28496931 ...,   17274.27064187\n",
        "    18248.07056626   19253.31259981]]\n"
       ]
      }
     ],
     "prompt_number": 16
    },
    {
     "cell_type": "code",
     "collapsed": false,
     "input": [
      "Z = grid1.T\n",
      "\n",
      "fig, ax = plt.subplots()\n",
      "\n",
      "cnt = contour(Z, cmap=cm.RdBu, vmin=abs(Z).min(), vmax=abs(Z).max(), extent=[0, 1, 0, 1])\n",
      "\n",
      "xlabel(\"$Alfa$\", size=15)\n",
      "ylabel(\"$Beta$\", size=15)"
     ],
     "language": "python",
     "metadata": {},
     "outputs": [
      {
       "metadata": {},
       "output_type": "display_data",
       "png": "[encoded data removed]",
       "text": [
        "<matplotlib.figure.Figure at 0x3fe8f10>"
       ]
      }
     ],
     "prompt_number": 17
    },
    {
     "cell_type": "code",
     "collapsed": false,
     "input": [
      "def alfa_km_1(x,y):\n",
      "    \n",
      "    dis2_chi2 = chi2(p_obs, filtrar(x,beta_min,y,km_2_min,S_0_min)[0])\n",
      "    \n",
      "    return dis2_chi2"
     ],
     "language": "python",
     "metadata": {},
     "outputs": [],
     "prompt_number": 18
    },
    {
     "cell_type": "code",
     "collapsed": false,
     "input": [
      "grid2 = zeros((100,100))\n",
      "\n",
      "for i in range(100):\n",
      "    for j in range (100):\n",
      "        grid2[i,j] = alfa_km_1(x0[i],y0[j])"
     ],
     "language": "python",
     "metadata": {},
     "outputs": [
      {
       "output_type": "stream",
       "stream": "stdout",
       "text": [
        "[[  4745.17962593   4668.58609212   4590.09967674 ...,  32959.06150112\n",
        "   34432.34134155  35939.58044772]\n",
        " [  4745.17962593   4667.8789664    4591.07368074 ...,  33239.54577186\n",
        "   34719.40793134  36233.25432965]\n",
        " [  4745.17962593   4665.45309806   4590.91772935 ...,  33521.19491042\n",
        "   35007.64497065  36528.10427738]\n",
        " ..., \n",
        " [  4745.17962593   4762.3051418    4678.05220265 ...,  65662.90190927\n",
        "   67803.34107786  69980.21515802]\n",
        " [  4745.17962593   4734.35420123   4613.83512965 ...,  66058.84178772\n",
        "   68206.48352757  70390.58545289]\n",
        " [  4745.17962593   4718.93506265   4587.82325881 ...,  66456.00364359\n",
        "   68610.8549635   70802.19172624]]\n"
       ]
      }
     ],
     "prompt_number": 19
    },
    {
     "cell_type": "code",
     "collapsed": false,
     "input": [
      "Z = grid2.T\n",
      "\n",
      "fig, ax = plt.subplots()\n",
      "\n",
      "cnt = contour(Z, cmap=cm.RdBu, vmin=abs(Z).min(), vmax=abs(Z).max(), extent=[0, 1, 0, 1])\n",
      "\n",
      "xlabel(\"$Alfa$\", size=15)\n",
      "ylabel(\"$km_1$\", size=15)"
     ],
     "language": "python",
     "metadata": {},
     "outputs": [
      {
       "metadata": {},
       "output_type": "display_data",
       "png": "[encoded data removed]",
       "text": [
        "<matplotlib.figure.Figure at 0x41c6810>"
       ]
      }
     ],
     "prompt_number": 20
    },
    {
     "cell_type": "code",
     "collapsed": false,
     "input": [
      "def alfa_km_2(x,y):\n",
      "    \n",
      "    dis3_chi2 = chi2(p_obs, filtrar(x,beta_min,km_1_min,y,S_0_min)[0])\n",
      "    \n",
      "    return dis3_chi2"
     ],
     "language": "python",
     "metadata": {},
     "outputs": []
    },
    {
     "cell_type": "code",
     "collapsed": false,
     "input": [
      "grid3 = zeros((100,100))\n",
      "\n",
      "for i in range(100):\n",
      "    for j in range (100):\n",
      "        grid3[i,j] = alfa_km_2(x0[i],y0[j])"
     ],
     "language": "python",
     "metadata": {},
     "outputs": []
    },
    {
     "cell_type": "code",
     "collapsed": false,
     "input": [
      "Z = grid3.T\n",
      "\n",
      "fig, ax = plt.subplots()\n",
      "\n",
      "cnt = contour(Z, cmap=cm.RdBu, vmin=abs(Z).min(), vmax=abs(Z).max(), extent=[0, 1, 0, 1])\n",
      "\n",
      "xlabel(\"$Alfa$\", size=15)\n",
      "ylabel(\"$km_2$\", size=15)"
     ],
     "language": "python",
     "metadata": {},
     "outputs": []
    },
    {
     "cell_type": "code",
     "collapsed": false,
     "input": [
      "def alfa_S_0(x,y):\n",
      "    \n",
      "    dis4_chi2 = chi2(p_obs, filtrar(x,beta_min,km_1_min,km_2_min,y)[0])\n",
      "    \n",
      "    return dis4_chi2"
     ],
     "language": "python",
     "metadata": {},
     "outputs": []
    },
    {
     "cell_type": "code",
     "collapsed": false,
     "input": [
      "grid4 = zeros((100,100))\n",
      "\n",
      "for i in range(100):\n",
      "    for j in range (100):\n",
      "        grid4[i,j] = alfa_S_0(x0[i],y0[j])"
     ],
     "language": "python",
     "metadata": {},
     "outputs": []
    },
    {
     "cell_type": "code",
     "collapsed": false,
     "input": [
      "Z = grid4.T\n",
      "\n",
      "fig, ax = plt.subplots()\n",
      "\n",
      "cnt = contour(Z, cmap=cm.RdBu, vmin=abs(Z).min(), vmax=abs(Z).max(), extent=[0, 1, 0, 1])\n",
      "\n",
      "xlabel(\"$Alfa$\", size=15)\n",
      "ylabel(\"$S_0$\", size=15)"
     ],
     "language": "python",
     "metadata": {},
     "outputs": []
    },
    {
     "cell_type": "code",
     "collapsed": false,
     "input": [
      "def beta_km_1(x,y):\n",
      "    \n",
      "    dis5_chi2 = chi2(p_obs, filtrar(alfa_min,x,y,km_2_min,S_0_min)[0])\n",
      "    \n",
      "    return dis5_chi2"
     ],
     "language": "python",
     "metadata": {},
     "outputs": []
    },
    {
     "cell_type": "code",
     "collapsed": false,
     "input": [
      "grid5 = zeros((100,100))\n",
      "\n",
      "for i in range(100):\n",
      "    for j in range (100):\n",
      "        grid5[i,j] = beta_km_1(x0[i],y0[j])"
     ],
     "language": "python",
     "metadata": {},
     "outputs": []
    },
    {
     "cell_type": "code",
     "collapsed": false,
     "input": [
      "Z = grid5.T\n",
      "\n",
      "fig, ax = plt.subplots()\n",
      "\n",
      "cnt = contour(Z, cmap=cm.RdBu, vmin=abs(Z).min(), vmax=abs(Z).max(), extent=[0, 1, 0, 1])\n",
      "\n",
      "xlabel(\"$Beta$\", size=15)\n",
      "ylabel(\"$km_1$\", size=15)"
     ],
     "language": "python",
     "metadata": {},
     "outputs": []
    },
    {
     "cell_type": "code",
     "collapsed": false,
     "input": [
      "def beta_km_2(x,y):\n",
      "    \n",
      "    dis6_chi2 = chi2(p_obs, filtrar(alfa_min,x,km_1_min,y,S_0_min)[0])\n",
      "    \n",
      "    return dis6_chi2"
     ],
     "language": "python",
     "metadata": {},
     "outputs": []
    },
    {
     "cell_type": "code",
     "collapsed": false,
     "input": [
      "grid6 = zeros((100,100))\n",
      "\n",
      "for i in range(100):\n",
      "    for j in range (100):\n",
      "        grid6[i,j] = beta_km_2(x0[i],y0[j])"
     ],
     "language": "python",
     "metadata": {},
     "outputs": []
    },
    {
     "cell_type": "code",
     "collapsed": false,
     "input": [
      "Z = grid6.T\n",
      "\n",
      "fig, ax = plt.subplots()\n",
      "\n",
      "cnt = contour(Z, cmap=cm.RdBu, vmin=abs(Z).min(), vmax=abs(Z).max(), extent=[0, 1, 0, 1])\n",
      "\n",
      "xlabel(\"$Beta$\", size=15)\n",
      "ylabel(\"$km_2$\", size=15)"
     ],
     "language": "python",
     "metadata": {},
     "outputs": []
    },
    {
     "cell_type": "code",
     "collapsed": false,
     "input": [
      "def beta_S_0(x,y):\n",
      "    \n",
      "    dis7_chi2 = chi2(p_obs, filtrar(alfa_min,x,km_1_min,km_2_min,y)[0])\n",
      "    \n",
      "    return dis7_chi2"
     ],
     "language": "python",
     "metadata": {},
     "outputs": []
    },
    {
     "cell_type": "code",
     "collapsed": false,
     "input": [
      "grid7 = zeros((100,100))\n",
      "\n",
      "for i in range(100):\n",
      "    for j in range (100):\n",
      "        grid7[i,j] = beta_S_0(x0[i],y0[j])"
     ],
     "language": "python",
     "metadata": {},
     "outputs": []
    },
    {
     "cell_type": "code",
     "collapsed": false,
     "input": [
      "Z = grid7.T\n",
      "\n",
      "fig, ax = plt.subplots()\n",
      "\n",
      "cnt = contour(Z, cmap=cm.RdBu, vmin=abs(Z).min(), vmax=abs(Z).max(), extent=[0, 1, 0, 1])\n",
      "\n",
      "xlabel(\"$Beta$\", size=15)\n",
      "ylabel(\"$S_0$\", size=15)"
     ],
     "language": "python",
     "metadata": {},
     "outputs": []
    },
    {
     "cell_type": "code",
     "collapsed": false,
     "input": [
      "def km_1_km_2(x,y):\n",
      "    \n",
      "    dis8_chi2 = chi2(p_obs, filtrar(alfa_min,beta_min,x,y,S_0_min)[0])\n",
      "    \n",
      "    return dis8_chi2"
     ],
     "language": "python",
     "metadata": {},
     "outputs": []
    },
    {
     "cell_type": "code",
     "collapsed": false,
     "input": [
      "grid8 = zeros((100,100))\n",
      "\n",
      "for i in range(100):\n",
      "    for j in range (100):\n",
      "        grid8[i,j] = km_1_km_2(x0[i],y0[j])"
     ],
     "language": "python",
     "metadata": {},
     "outputs": []
    },
    {
     "cell_type": "code",
     "collapsed": false,
     "input": [
      "Z = grid8.T\n",
      "\n",
      "fig, ax = plt.subplots()\n",
      "\n",
      "cnt = contour(Z, cmap=cm.RdBu, vmin=abs(Z).min(), vmax=abs(Z).max(), extent=[0, 1, 0, 1])\n",
      "\n",
      "xlabel(\"$km_1$\", size=15)\n",
      "ylabel(\"$km_2$\", size=15)"
     ],
     "language": "python",
     "metadata": {},
     "outputs": []
    },
    {
     "cell_type": "code",
     "collapsed": false,
     "input": [
      "def km_1_S_0(x,y):\n",
      "    \n",
      "    dis9_chi2 = chi2(p_obs, filtrar(alfa_min,beta_min,x,km_2_min,y)[0])\n",
      "    \n",
      "    return dis9_chi2"
     ],
     "language": "python",
     "metadata": {},
     "outputs": []
    },
    {
     "cell_type": "code",
     "collapsed": false,
     "input": [
      "grid9 = zeros((100,100))\n",
      "\n",
      "for i in range(100):\n",
      "    for j in range (100):\n",
      "        grid9[i,j] = km_1_S_0(x0[i],y0[j])"
     ],
     "language": "python",
     "metadata": {},
     "outputs": []
    },
    {
     "cell_type": "code",
     "collapsed": false,
     "input": [
      "Z = grid9.T\n",
      "\n",
      "fig, ax = plt.subplots()\n",
      "\n",
      "cnt = contour(Z, cmap=cm.RdBu, vmin=abs(Z).min(), vmax=abs(Z).max(), extent=[0, 1, 0, 1])\n",
      "\n",
      "xlabel(\"$km_1$\", size=15)\n",
      "ylabel(\"$S_0$\", size=15)"
     ],
     "language": "python",
     "metadata": {},
     "outputs": []
    },
    {
     "cell_type": "code",
     "collapsed": false,
     "input": [
      "def km_2_S_0(x,y):\n",
      "    \n",
      "    dis10_chi2 = chi2(p_obs, filtrar(alfa_min,beta_min,km_1_min,x,y)[0])\n",
      "    \n",
      "    return dis10_chi2"
     ],
     "language": "python",
     "metadata": {},
     "outputs": []
    },
    {
     "cell_type": "code",
     "collapsed": false,
     "input": [
      "grid10 = zeros((100,100))\n",
      "\n",
      "for i in range(100):\n",
      "    for j in range (100):\n",
      "        grid10[i,j] = km_2_S_0(x0[i],y0[j])"
     ],
     "language": "python",
     "metadata": {},
     "outputs": []
    },
    {
     "cell_type": "code",
     "collapsed": false,
     "input": [
      "Z = grid10.T\n",
      "\n",
      "fig, ax = plt.subplots()\n",
      "\n",
      "cnt = contour(Z, cmap=cm.RdBu, vmin=abs(Z).min(), vmax=abs(Z).max(), extent=[0, 1, 0, 1])\n",
      "\n",
      "xlabel(\"$km_2$\", size=15)\n",
      "ylabel(\"$S_0$\", size=15)"
     ],
     "language": "python",
     "metadata": {},
     "outputs": []
    },
    {
     "cell_type": "code",
     "collapsed": false,
     "input": [
      "incertidumbre_alfa = std(alfa_walk)\n",
      "print \"Incertidumbre alfa:  \", incertidumbre_alfa\n",
      "\n",
      "incertidumbre_beta = std(beta_walk)\n",
      "print \"Incertidumbre beta:  \", incertidumbre_beta\n",
      "\n",
      "incertidumbre_km1 = std(km_1_walk)\n",
      "print \"Incertudumbre km1:  \", incertidumbre_km1\n",
      "\n",
      "incertidumbre_km2 = std(km_2_walk)\n",
      "print \"Incertidumbre km2:  \", incertidumbre_km2\n",
      "\n",
      "incertidumbre_S0 = std(S_0_walk)\n",
      "print \"Incertidumbre S_0:  \", incertidumbre_S0"
     ],
     "language": "python",
     "metadata": {},
     "outputs": [
      {
       "output_type": "stream",
       "stream": "stdout",
       "text": [
        " Incertidumbre alfa:   0.138635102064\n",
        "Incertidumbre beta:   0.187232195185\n",
        "Incertudumbre km1:   0.465892148615\n",
        "Incertidumbre km2:   0.583449203181\n",
        "Incertidumbre S_0:   0.808383825435\n"
       ]
      }
     ],
     "prompt_number": 26
    }
   ],
   "metadata": {}
  }
 ]
}
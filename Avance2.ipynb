{
 "metadata": {
  "name": ""
 },
 "nbformat": 3,
 "nbformat_minor": 0,
 "worksheets": [
  {
   "cells": [
    {
     "cell_type": "raw",
     "metadata": {},
     "source": [
      "1. Escriba un programa en python que realice una exploraci\u00f3n MCMC del\n",
      "espacio de par\u00e1metros relevante para el problema."
     ]
    },
    {
     "cell_type": "code",
     "collapsed": false,
     "input": [
      "%pylab inline\n",
      "from scipy.interpolate import griddata"
     ],
     "language": "python",
     "metadata": {},
     "outputs": [
      {
       "output_type": "stream",
       "stream": "stdout",
       "text": [
        "Populating the interactive namespace from numpy and matplotlib\n"
       ]
      }
     ],
     "prompt_number": 1
    },
    {
     "cell_type": "code",
     "collapsed": false,
     "input": [
      "#A continuaci\u00f3n se cargan los datos del archivo de medidas experimentales y se grafican. \n",
      "obs_data = loadtxt(\"dimer_observations.dat\")\n",
      "t_obse = obs_data[:,0]\n",
      "p_obse = obs_data[:,1]\n",
      "\n",
      "t_obs = empty(0)\n",
      "p_obs = empty(0)\n",
      "\n",
      "for i in range(3,size(t_obse)):\n",
      "    t_obs = append(t_obs, t_obse[i])\n",
      "    p_obs = append(p_obs, p_obse[i])\n",
      "\n",
      "print size(t_obs)\n",
      "scatter(t_obs,p_obs)"
     ],
     "language": "python",
     "metadata": {},
     "outputs": [
      {
       "output_type": "stream",
       "stream": "stdout",
       "text": [
        "16\n"
       ]
      },
      {
       "metadata": {},
       "output_type": "pyout",
       "prompt_number": 2,
       "text": [
        "<matplotlib.collections.PathCollection at 0x3fd9e90>"
       ]
      },
      {
       "metadata": {},
       "output_type": "display_data",
       "png": "[encoded data removed]",
       "text": [
        "<matplotlib.figure.Figure at 0x3f109d0>"
       ]
      }
     ],
     "prompt_number": 2
    },
    {
     "cell_type": "code",
     "collapsed": false,
     "input": [
      "#La siguiente funci\u00f3n ser\u00e1 luego usada para resolver el sistema de manera num\u00e9rica por medio de un Rungekutta de cuarto orden.\n",
      "def fPrima(P, alfa, beta, km_1, km_2, S_0):\n",
      "    \n",
      "    primerTermino = alfa*(S_0 - P)/(km_1 + S_0 - P)\n",
      "    segundoTermino = beta*P/(km_2 + P)\n",
      "    \n",
      "    return (primerTermino - segundoTermino)"
     ],
     "language": "python",
     "metadata": {},
     "outputs": [],
     "prompt_number": 3
    },
    {
     "cell_type": "code",
     "collapsed": false,
     "input": [
      "#M\u00e9todo Rungekutta de cuarto \u00f3rden para la resoluci\u00f3n num\u00e9rica del sistema.\n",
      "def Rungekutta4 (alfa, beta, km_1, km_2, S_0):\n",
      "    \n",
      "    h=0.5\n",
      "    n_points = int((25.0+h)/h)\n",
      "    \n",
      "    t_model = empty(0)\n",
      "    p_model = empty(0)\n",
      "    \n",
      "    t_model = append(t_model,t_obs[0])\n",
      "    p_model = append(p_model,p_obs[0])\n",
      "    \n",
      "    for i in range(1,n_points):\n",
      "        \n",
      "        k1 = fPrima(p_model[i-1], alfa, beta,km_1, km_2, S_0)\n",
      "        \n",
      "        #primer paso\n",
      "        t1 = t_model[i-1]\n",
      "        p1 = p_model[i-1] + (h/2.0) * k1\n",
      "        k2 = fPrima(p1, alfa, beta, km_1, km_2,  S_0)\n",
      "    \n",
      "        #second step\n",
      "        t2 = t_model[i-1] + (h/2.0)\n",
      "        p2 = p_model[i-1] + (h/2.0) * k2\n",
      "        k3 = fPrima(p2, alfa, beta, km_1, km_2, S_0)\n",
      "        \n",
      "        #third step\n",
      "        t3 = t_model[i-1] + h\n",
      "        p3 = p_model[i-1] + h * k3\n",
      "        k4 = fPrima(p3, alfa, beta, km_1, km_2,  S_0)\n",
      "    \n",
      "        #fourth step\n",
      "        promedio = (1.0/6.0)*(k1 + 2.0*k2 + 2.0*k3 + k4)\n",
      "        \n",
      "    \n",
      "        t_model = append(t_model,t_model[i-1] + h)\n",
      "        p_model = append(p_model,p_model[i-1] + h*promedio)\n",
      "        \n",
      "        \n",
      "        \n",
      "    return p_model, t_model"
     ],
     "language": "python",
     "metadata": {},
     "outputs": [],
     "prompt_number": 4
    },
    {
     "cell_type": "code",
     "collapsed": false,
     "input": [
      "#Esta funci\u00f3n reduce el tama\u00f1o del arreglo que otorga la resoluci\u00f3n del sistema por el m\u00e9todo Rungekutta y lo reduce a \n",
      "#un tama\u00f1o igual al de datos observados para un posterior uso.\n",
      "def filtrar(alfa,beta, km_1, km_2, S_0):\n",
      "    \n",
      "    tD_model = empty(0)\n",
      "    pD_model = empty(0)\n",
      "    \n",
      "    for i in range(1,size(t_obs)):\n",
      "\n",
      "        tD_model = append(tD_model,(Rungekutta4(alfa,beta,km_1,km_2,S_0)[1])[(t_obs[i-1]-t_obs[0])/0.5])\n",
      "        pD_model = append(pD_model,(Rungekutta4(alfa,beta,km_1,km_2,S_0)[0])[(t_obs[i-1]-t_obs[0])/0.5])\n",
      "        \n",
      "    return pD_model, tD_model"
     ],
     "language": "python",
     "metadata": {},
     "outputs": [],
     "prompt_number": 5
    },
    {
     "cell_type": "code",
     "collapsed": false,
     "input": [
      "# Funci\u00f3n que compara dos arreglos por medio de la operaci\u00f3n chi cuadrado.\n",
      "def chi2(p_obs, p_model):\n",
      "    \n",
      "    chi_squared = 0\n",
      "    \n",
      "    for i in range(1,size(p_obs)):\n",
      "        \n",
      "        chi_squared= chi_squared + (p_obs[i-1] - p_model[i-1])**2\n",
      "    \n",
      "    return chi_squared"
     ],
     "language": "python",
     "metadata": {},
     "outputs": [],
     "prompt_number": 6
    },
    {
     "cell_type": "code",
     "collapsed": false,
     "input": [
      "# A continuaci\u00f3n se generan los datos iniciales para cada par\u00e1metro\n",
      "alfa_walk = empty((0)) \n",
      "beta_walk = empty((0))\n",
      "S_0_walk = empty((0))\n",
      "km_1_walk = empty((0))\n",
      "km_2_walk = empty((0))\n",
      "\n",
      "alfa_walk = append(alfa_walk, 2.5)\n",
      "beta_walk = append(beta_walk, 7.0)\n",
      "S_0_walk = append(S_0_walk, 5.0)\n",
      "km_1_walk = append(km_1_walk, 5.0)\n",
      "km_2_walk = append(km_2_walk, 6.0)\n",
      "print alfa_walk, beta_walk,S_0_walk,km_1_walk,km_2_walk"
     ],
     "language": "python",
     "metadata": {},
     "outputs": [
      {
       "output_type": "stream",
       "stream": "stdout",
       "text": [
        "[ 2.5] [ 7.] [ 5.] [ 5.] [ 6.]\n"
       ]
      }
     ],
     "prompt_number": 7
    },
    {
     "cell_type": "code",
     "collapsed": false,
     "input": [
      "#Vamos a realizar interaciones para la estimaci\u00f3n de par\u00e1metros\n",
      "\n",
      "iterations = 500\n",
      "chi2A = empty(0)\n",
      "\n",
      "for i in range(iterations):\n",
      "    \n",
      "\n",
      "    alfa_prime = abs(np.random.normal(alfa_walk[i], 0.1))\n",
      "    beta_prime = abs(np.random.normal(beta_walk[i], 0.1))\n",
      "    S_0_prime = abs(np.random.normal(S_0_walk[i], 0.1))\n",
      "    km_1_prime = abs(np.random.normal(km_1_walk[i], 0.1))\n",
      "    km_2_prime = abs(np.random.normal(km_2_walk[i], 0.1))\n",
      "        \n",
      "    P_Rungekutta4_init = filtrar(alfa_walk[i], beta_walk[i], km_1_walk[i], km_2_walk[i], S_0_walk[i])[0]\n",
      "    P_Rungekutta4_prime = filtrar(alfa_prime, beta_prime, km_1_prime, km_2_prime, S_0_prime)[0]\n",
      "    t_Rungekutta4_init = filtrar(alfa_walk[i], beta_walk[i], km_1_walk[i], km_2_walk[i], S_0_walk[i])[1]\n",
      "    t_Rungekutta4_prime = filtrar(alfa_prime, beta_prime, km_1_prime, km_2_prime, S_0_prime)[1]\n",
      "    \n",
      "    chi_p = chi2(p_obs, P_Rungekutta4_prime)\n",
      "    chi_i = chi2(p_obs, P_Rungekutta4_init)\n",
      "    \n",
      "    lam = chi_p - chi_i\n",
      "    \n",
      "    if (i == 0):\n",
      "        chi2A = append(chi2A, chi_i)\n",
      "    \n",
      "    if(lam <= 0.0):\n",
      "    \n",
      "        alfa_walk = append(alfa_walk, alfa_prime)\n",
      "        beta_walk = append(beta_walk, beta_prime)\n",
      "        S_0_walk = append(S_0_walk, S_0_prime)\n",
      "        km_1_walk = append(km_1_walk, km_1_prime)\n",
      "        km_2_walk = append(km_2_walk, km_2_prime)\n",
      "        \n",
      "        chi2A = append(chi2A, chi_p)\n",
      "           \n",
      "    else:\n",
      "        gamma = random.random()\n",
      "        \n",
      "        if (gamma <= exp(-lam)):\n",
      "            alfa_walk = append(alfa_walk, alfa_prime)\n",
      "            beta_walk = append(beta_walk, beta_prime)\n",
      "            S_0_walk = append(S_0_walk, S_0_prime)\n",
      "            km_1_walk = append(km_1_walk, km_1_prime)\n",
      "            km_2_walk = append(km_2_walk, km_2_prime)\n",
      "            \n",
      "            chi2A = append(chi2A, chi_p)\n",
      "            \n",
      "        else: \n",
      "            alfa_walk = append(alfa_walk, alfa_walk[i])\n",
      "            beta_walk = append(beta_walk, beta_walk[i])\n",
      "            S_0_walk = append(S_0_walk, S_0_walk[i])\n",
      "            km_1_walk = append(km_1_walk, km_1_walk[i])\n",
      "            km_2_walk = append(km_2_walk, km_2_walk[i])\n",
      "            chi2A = append(chi2A, chi_i)\n",
      "            \n",
      "print argmin(chi2A)\n"
     ],
     "language": "python",
     "metadata": {},
     "outputs": [
      {
       "output_type": "stream",
       "stream": "stdout",
       "text": [
        "314\n"
       ]
      }
     ],
     "prompt_number": 9
    },
    {
     "cell_type": "code",
     "collapsed": false,
     "input": [
      "print type(alfa_walk)\n",
      "print argmin(chi2A)\n",
      "chi2A[argmin(chi2A)]"
     ],
     "language": "python",
     "metadata": {},
     "outputs": [
      {
       "output_type": "stream",
       "stream": "stdout",
       "text": [
        "<type 'numpy.ndarray'>\n",
        "314\n"
       ]
      },
      {
       "metadata": {},
       "output_type": "pyout",
       "prompt_number": 10,
       "text": [
        "4.4330735255523841"
       ]
      }
     ],
     "prompt_number": 10
    },
    {
     "cell_type": "code",
     "collapsed": false,
     "input": [
      "#A continuaci\u00f3n se puede observar el camino recorrido por el m\u00e9todo para alfa y Beta\n",
      "plot(alfa_walk,beta_walk,\"r\")\n",
      "plot(alfa_walk[0],beta_walk[0],\"co\") #Punto inicial\n",
      "plot(alfa_walk[-1],beta_walk[-1],\"wo\") #Punto final\n",
      "scatter(alfa_walk,beta_walk)\n",
      "plt.show()\n",
      "plt.close()\n"
     ],
     "language": "python",
     "metadata": {},
     "outputs": [
      {
       "metadata": {},
       "output_type": "display_data",
       "png": "[encoded data removed]",
       "text": [
        "<matplotlib.figure.Figure at 0x52033d0>"
       ]
      }
     ],
     "prompt_number": 65
    },
    {
     "cell_type": "code",
     "collapsed": false,
     "input": [
      "#A continuaci\u00f3n se puede observar el camino recorrido por el m\u00e9todo para alfa y Beta\n",
      "plot(km_1_walk,km_2_walk,\"r\")\n",
      "plot(km_1_walk[0],km_2_walk[0],\"co\") #Punto inicial\n",
      "plot(km_1_walk[-1],km_2_walk[-1],\"wo\") # Punto finas\n",
      "scatter(km_1_walk,km_2_walk)\n",
      "plt.show()\n",
      "plt.close()\n"
     ],
     "language": "python",
     "metadata": {},
     "outputs": [
      {
       "metadata": {},
       "output_type": "display_data",
       "png": "[encoded data removed]",
       "text": [
        "<matplotlib.figure.Figure at 0x52219d0>"
       ]
      }
     ],
     "prompt_number": 64
    },
    {
     "cell_type": "code",
     "collapsed": false,
     "input": [
      "j = 0.0\n",
      "P=Rungekutta4(alfa_walk[argmin(chi2A)-j],beta_walk[argmin(chi2A)-j],km_1_walk[argmin(chi2A)-j],km_2_walk[argmin(chi2A)-j],S_0_walk[argmin(chi2A)-j])[0]\n",
      "t=Rungekutta4(alfa_walk[argmin(chi2A)-j],beta_walk[argmin(chi2A)-j],km_1_walk[argmin(chi2A)-j],km_2_walk[argmin(chi2A)-j],S_0_walk[argmin(chi2A)-j])[1]\n",
      "\n",
      "alfa_min = alfa_walk[argmin(chi2A)]\n",
      "beta_min = beta_walk[argmin(chi2A)]\n",
      "km_1_min = km_1_walk[argmin(chi2A)]\n",
      "km_2_min = km_2_walk[argmin(chi2A)]\n",
      "S_0_min = S_0_walk[argmin(chi2A)]\n",
      "\n",
      "print (alfa_walk[argmin(chi2A)-j],beta_walk[argmin(chi2A)-j],km_1_walk[argmin(chi2A)-j],km_2_walk[argmin(chi2A)-j],S_0_walk[argmin(chi2A)-j])"
     ],
     "language": "python",
     "metadata": {},
     "outputs": [
      {
       "output_type": "stream",
       "stream": "stdout",
       "text": [
        "(3.0763304199255144, 6.5839537811472795, 5.1729243806150249, 5.824930541507257, 4.7842482535646571)\n"
       ]
      }
     ],
     "prompt_number": 13
    },
    {
     "cell_type": "code",
     "collapsed": false,
     "input": [
      "plot(t,P,\"r-\",label=\"Modelo teorico\")\n",
      "scatter(t_obs,p_obs,label=\"Datos experimentales\")\n",
      "\n",
      "title(\"Grafica de P(t) vs. t\",size=25)\n",
      "xlabel(\"$t$\",size=20)\n",
      "ylabel(\"$P(t)$\",size=20,rotation=\"horizontal\" )\n",
      "legend()\n",
      "savefig(\"Grafica_P(t).jpg\")"
     ],
     "language": "python",
     "metadata": {},
     "outputs": [
      {
       "metadata": {},
       "output_type": "display_data",
       "png": "[encoded data removed]",
       "text": [
        "<matplotlib.figure.Figure at 0x4340f10>"
       ]
      }
     ],
     "prompt_number": 14
    },
    {
     "cell_type": "code",
     "collapsed": false,
     "input": [
      "def alfa_beta(x,y):\n",
      "    \n",
      "    dis1_chi2 = chi2(p_obs, filtrar(x,y,km_1_min,km_2_min,S_0_min)[0])\n",
      "    \n",
      "    return dis1_chi2"
     ],
     "language": "python",
     "metadata": {},
     "outputs": [],
     "prompt_number": 15
    },
    {
     "cell_type": "code",
     "collapsed": false,
     "input": [
      "x0 = linspace(0, 10, 100)\n",
      "y0 = linspace(0, 10, 100)"
     ],
     "language": "python",
     "metadata": {},
     "outputs": [],
     "prompt_number": 16
    },
    {
     "cell_type": "code",
     "collapsed": false,
     "input": [
      "#X,Y = meshgrid(x0,y0)\n",
      "\n",
      "grid1 = zeros((100,100))\n",
      "\n",
      "for i in range(100):\n",
      "    for j in range (100):\n",
      "        grid1[i,j] = alfa_beta(x0[i],y0[j])"
     ],
     "language": "python",
     "metadata": {},
     "outputs": [],
     "prompt_number": 19
    },
    {
     "cell_type": "code",
     "collapsed": false,
     "input": [
      "Z = grid1.T\n",
      "\n",
      "fig, ax = plt.subplots()\n",
      "\n",
      "cnt = contour(Z, cmap=cm.RdBu, vmin=abs(Z).min(), vmax=abs(Z).max(), extent=[0, 1, 0, 1])\n",
      "im = imshow(grid1.T , \n",
      "\n",
      "xlabel(\"$Alfa$\", size=15)\n",
      "ylabel(\"$Beta$\", size=15)"
     ],
     "language": "python",
     "metadata": {},
     "outputs": [
      {
       "metadata": {},
       "output_type": "pyout",
       "prompt_number": 20,
       "text": [
        "<matplotlib.text.Text at 0x433fdd0>"
       ]
      },
      {
       "metadata": {},
       "output_type": "display_data",
       "png": "[encoded data removed]",
       "text": [
        "<matplotlib.figure.Figure at 0x3f0c5d0>"
       ]
      }
     ],
     "prompt_number": 20
    },
    {
     "cell_type": "code",
     "collapsed": false,
     "input": [
      "def alfa_km_1(x,y):\n",
      "    \n",
      "    dis2_chi2 = chi2(p_obs, filtrar(x,beta_min,y,km_2_min,S_0_min)[0])\n",
      "    \n",
      "    return dis2_chi2"
     ],
     "language": "python",
     "metadata": {},
     "outputs": [],
     "prompt_number": 21
    },
    {
     "cell_type": "code",
     "collapsed": false,
     "input": [
      "grid2 = zeros((100,100))\n",
      "\n",
      "for i in range(100):\n",
      "    for j in range (100):\n",
      "        grid2[i,j] = alfa_km_1(x0[i],y0[j])"
     ],
     "language": "python",
     "metadata": {},
     "outputs": [],
     "prompt_number": 22
    },
    {
     "cell_type": "code",
     "collapsed": false,
     "input": [
      "Z = grid2.T\n",
      "\n",
      "fig, ax = plt.subplots()\n",
      "\n",
      "cnt = contour(Z, cmap=cm.RdBu, vmin=abs(Z).min(), vmax=abs(Z).max(), extent=[0, 1, 0, 1])\n",
      "\n",
      "xlabel(\"$Alfa$\", size=15)\n",
      "ylabel(\"$km_1$\", size=15)"
     ],
     "language": "python",
     "metadata": {},
     "outputs": [
      {
       "metadata": {},
       "output_type": "pyout",
       "prompt_number": 23,
       "text": [
        "<matplotlib.text.Text at 0x426aed0>"
       ]
      },
      {
       "metadata": {},
       "output_type": "display_data",
       "png": "[encoded data removed]",
       "text": [
        "<matplotlib.figure.Figure at 0x4326150>"
       ]
      }
     ],
     "prompt_number": 23
    },
    {
     "cell_type": "code",
     "collapsed": false,
     "input": [
      "def alfa_km_2(x,y):\n",
      "    \n",
      "    dis3_chi2 = chi2(p_obs, filtrar(x,beta_min,km_1_min,y,S_0_min)[0])\n",
      "    \n",
      "    return dis3_chi2"
     ],
     "language": "python",
     "metadata": {},
     "outputs": [],
     "prompt_number": 24
    },
    {
     "cell_type": "code",
     "collapsed": false,
     "input": [
      "grid3 = zeros((50,50))\n",
      "\n",
      "for i in range(50):\n",
      "    for j in range (50):\n",
      "        grid3[i,j] = alfa_km_2(x0[i],y0[j])"
     ],
     "language": "python",
     "metadata": {},
     "outputs": [],
     "prompt_number": 26
    },
    {
     "cell_type": "code",
     "collapsed": false,
     "input": [
      "Z = grid3.T\n",
      "\n",
      "fig, ax = plt.subplots()\n",
      "\n",
      "cnt = contour(Z, cmap=cm.RdBu, vmin=abs(Z).min(), vmax=abs(Z).max(), extent=[0, 1, 0, 1])\n",
      "\n",
      "xlabel(\"$Alfa$\", size=17)\n",
      "ylabel(\"$km_2$\", size=17)"
     ],
     "language": "python",
     "metadata": {},
     "outputs": [
      {
       "metadata": {},
       "output_type": "pyout",
       "prompt_number": 30,
       "text": [
        "<matplotlib.text.Text at 0x43b4dd0>"
       ]
      },
      {
       "metadata": {},
       "output_type": "display_data",
       "png": "[encoded data removed]",
       "text": [
        "<matplotlib.figure.Figure at 0x5216150>"
       ]
      }
     ],
     "prompt_number": 30
    },
    {
     "cell_type": "code",
     "collapsed": false,
     "input": [
      "def alfa_S_0(x,y):\n",
      "    \n",
      "    dis4_chi2 = chi2(p_obs, filtrar(x,beta_min,km_1_min,km_2_min,y)[0])\n",
      "    \n",
      "    return dis4_chi2"
     ],
     "language": "python",
     "metadata": {},
     "outputs": [],
     "prompt_number": 31
    },
    {
     "cell_type": "code",
     "collapsed": false,
     "input": [
      "grid4 = zeros((50,50))\n",
      "\n",
      "for i in range(50):\n",
      "    for j in range (50):\n",
      "        grid4[i,j] = alfa_S_0(x0[i],y0[j])"
     ],
     "language": "python",
     "metadata": {},
     "outputs": [],
     "prompt_number": 33
    },
    {
     "cell_type": "code",
     "collapsed": false,
     "input": [
      "Z = grid4.T\n",
      "\n",
      "fig, ax = plt.subplots()\n",
      "\n",
      "cnt = contour(Z, cmap=cm.RdBu, vmin=abs(Z).min(), vmax=abs(Z).max(), extent=[0, 1, 0, 1])\n",
      "\n",
      "xlabel(\"$Alfa$\", size=15)\n",
      "ylabel(\"$S_0$\", size=15)\n",
      "xlim([0,0.2])"
     ],
     "language": "python",
     "metadata": {},
     "outputs": []
    },
    {
     "cell_type": "code",
     "collapsed": false,
     "input": [
      "def beta_km_1(x,y):\n",
      "    \n",
      "    dis5_chi2 = chi2(p_obs, filtrar(alfa_min,x,y,km_2_min,S_0_min)[0])\n",
      "    \n",
      "    return dis5_chi2"
     ],
     "language": "python",
     "metadata": {},
     "outputs": [],
     "prompt_number": 35
    },
    {
     "cell_type": "code",
     "collapsed": false,
     "input": [
      "grid5 = zeros((50,50))\n",
      "\n",
      "for i in range(50):\n",
      "    for j in range (50):\n",
      "        grid5[i,j] = beta_km_1(x0[i],y0[j])"
     ],
     "language": "python",
     "metadata": {},
     "outputs": [
      {
       "ename": "KeyboardInterrupt",
       "evalue": "",
       "output_type": "pyerr",
       "traceback": [
        "\u001b[1;31m---------------------------------------------------------------------------\u001b[0m\n\u001b[1;31mKeyboardInterrupt\u001b[0m                         Traceback (most recent call last)",
        "\u001b[1;32m<ipython-input-36-64e612a7c2b7>\u001b[0m in \u001b[0;36m<module>\u001b[1;34m()\u001b[0m\n\u001b[0;32m      3\u001b[0m \u001b[1;32mfor\u001b[0m \u001b[0mi\u001b[0m \u001b[1;32min\u001b[0m \u001b[0mrange\u001b[0m\u001b[1;33m(\u001b[0m\u001b[1;36m100\u001b[0m\u001b[1;33m)\u001b[0m\u001b[1;33m:\u001b[0m\u001b[1;33m\u001b[0m\u001b[0m\n\u001b[0;32m      4\u001b[0m     \u001b[1;32mfor\u001b[0m \u001b[0mj\u001b[0m \u001b[1;32min\u001b[0m \u001b[0mrange\u001b[0m \u001b[1;33m(\u001b[0m\u001b[1;36m100\u001b[0m\u001b[1;33m)\u001b[0m\u001b[1;33m:\u001b[0m\u001b[1;33m\u001b[0m\u001b[0m\n\u001b[1;32m----> 5\u001b[1;33m         \u001b[0mgrid5\u001b[0m\u001b[1;33m[\u001b[0m\u001b[0mi\u001b[0m\u001b[1;33m,\u001b[0m\u001b[0mj\u001b[0m\u001b[1;33m]\u001b[0m \u001b[1;33m=\u001b[0m \u001b[0mbeta_km_1\u001b[0m\u001b[1;33m(\u001b[0m\u001b[0mx0\u001b[0m\u001b[1;33m[\u001b[0m\u001b[0mi\u001b[0m\u001b[1;33m]\u001b[0m\u001b[1;33m,\u001b[0m\u001b[0my0\u001b[0m\u001b[1;33m[\u001b[0m\u001b[0mj\u001b[0m\u001b[1;33m]\u001b[0m\u001b[1;33m)\u001b[0m\u001b[1;33m\u001b[0m\u001b[0m\n\u001b[0m",
        "\u001b[1;32m<ipython-input-35-f81e75426328>\u001b[0m in \u001b[0;36mbeta_km_1\u001b[1;34m(x, y)\u001b[0m\n\u001b[0;32m      1\u001b[0m \u001b[1;32mdef\u001b[0m \u001b[0mbeta_km_1\u001b[0m\u001b[1;33m(\u001b[0m\u001b[0mx\u001b[0m\u001b[1;33m,\u001b[0m\u001b[0my\u001b[0m\u001b[1;33m)\u001b[0m\u001b[1;33m:\u001b[0m\u001b[1;33m\u001b[0m\u001b[0m\n\u001b[0;32m      2\u001b[0m \u001b[1;33m\u001b[0m\u001b[0m\n\u001b[1;32m----> 3\u001b[1;33m     \u001b[0mdis5_chi2\u001b[0m \u001b[1;33m=\u001b[0m \u001b[0mchi2\u001b[0m\u001b[1;33m(\u001b[0m\u001b[0mp_obs\u001b[0m\u001b[1;33m,\u001b[0m \u001b[0mfiltrar\u001b[0m\u001b[1;33m(\u001b[0m\u001b[0malfa_min\u001b[0m\u001b[1;33m,\u001b[0m\u001b[0mx\u001b[0m\u001b[1;33m,\u001b[0m\u001b[0my\u001b[0m\u001b[1;33m,\u001b[0m\u001b[0mkm_2_min\u001b[0m\u001b[1;33m,\u001b[0m\u001b[0mS_0_min\u001b[0m\u001b[1;33m)\u001b[0m\u001b[1;33m[\u001b[0m\u001b[1;36m0\u001b[0m\u001b[1;33m]\u001b[0m\u001b[1;33m)\u001b[0m\u001b[1;33m\u001b[0m\u001b[0m\n\u001b[0m\u001b[0;32m      4\u001b[0m \u001b[1;33m\u001b[0m\u001b[0m\n\u001b[0;32m      5\u001b[0m     \u001b[1;32mreturn\u001b[0m \u001b[0mdis5_chi2\u001b[0m\u001b[1;33m\u001b[0m\u001b[0m\n",
        "\u001b[1;32m<ipython-input-5-ffa79aa1ea12>\u001b[0m in \u001b[0;36mfiltrar\u001b[1;34m(alfa, beta, km_1, km_2, S_0)\u001b[0m\n\u001b[0;32m      7\u001b[0m     \u001b[1;32mfor\u001b[0m \u001b[0mi\u001b[0m \u001b[1;32min\u001b[0m \u001b[0mrange\u001b[0m\u001b[1;33m(\u001b[0m\u001b[1;36m1\u001b[0m\u001b[1;33m,\u001b[0m\u001b[0msize\u001b[0m\u001b[1;33m(\u001b[0m\u001b[0mt_obs\u001b[0m\u001b[1;33m)\u001b[0m\u001b[1;33m)\u001b[0m\u001b[1;33m:\u001b[0m\u001b[1;33m\u001b[0m\u001b[0m\n\u001b[0;32m      8\u001b[0m \u001b[1;33m\u001b[0m\u001b[0m\n\u001b[1;32m----> 9\u001b[1;33m         \u001b[0mtD_model\u001b[0m \u001b[1;33m=\u001b[0m \u001b[0mappend\u001b[0m\u001b[1;33m(\u001b[0m\u001b[0mtD_model\u001b[0m\u001b[1;33m,\u001b[0m\u001b[1;33m(\u001b[0m\u001b[0mRungekutta4\u001b[0m\u001b[1;33m(\u001b[0m\u001b[0malfa\u001b[0m\u001b[1;33m,\u001b[0m\u001b[0mbeta\u001b[0m\u001b[1;33m,\u001b[0m\u001b[0mkm_1\u001b[0m\u001b[1;33m,\u001b[0m\u001b[0mkm_2\u001b[0m\u001b[1;33m,\u001b[0m\u001b[0mS_0\u001b[0m\u001b[1;33m)\u001b[0m\u001b[1;33m[\u001b[0m\u001b[1;36m1\u001b[0m\u001b[1;33m]\u001b[0m\u001b[1;33m)\u001b[0m\u001b[1;33m[\u001b[0m\u001b[1;33m(\u001b[0m\u001b[0mt_obs\u001b[0m\u001b[1;33m[\u001b[0m\u001b[0mi\u001b[0m\u001b[1;33m-\u001b[0m\u001b[1;36m1\u001b[0m\u001b[1;33m]\u001b[0m\u001b[1;33m-\u001b[0m\u001b[0mt_obs\u001b[0m\u001b[1;33m[\u001b[0m\u001b[1;36m0\u001b[0m\u001b[1;33m]\u001b[0m\u001b[1;33m)\u001b[0m\u001b[1;33m/\u001b[0m\u001b[1;36m0.5\u001b[0m\u001b[1;33m]\u001b[0m\u001b[1;33m)\u001b[0m\u001b[1;33m\u001b[0m\u001b[0m\n\u001b[0m\u001b[0;32m     10\u001b[0m         \u001b[0mpD_model\u001b[0m \u001b[1;33m=\u001b[0m \u001b[0mappend\u001b[0m\u001b[1;33m(\u001b[0m\u001b[0mpD_model\u001b[0m\u001b[1;33m,\u001b[0m\u001b[1;33m(\u001b[0m\u001b[0mRungekutta4\u001b[0m\u001b[1;33m(\u001b[0m\u001b[0malfa\u001b[0m\u001b[1;33m,\u001b[0m\u001b[0mbeta\u001b[0m\u001b[1;33m,\u001b[0m\u001b[0mkm_1\u001b[0m\u001b[1;33m,\u001b[0m\u001b[0mkm_2\u001b[0m\u001b[1;33m,\u001b[0m\u001b[0mS_0\u001b[0m\u001b[1;33m)\u001b[0m\u001b[1;33m[\u001b[0m\u001b[1;36m0\u001b[0m\u001b[1;33m]\u001b[0m\u001b[1;33m)\u001b[0m\u001b[1;33m[\u001b[0m\u001b[1;33m(\u001b[0m\u001b[0mt_obs\u001b[0m\u001b[1;33m[\u001b[0m\u001b[0mi\u001b[0m\u001b[1;33m-\u001b[0m\u001b[1;36m1\u001b[0m\u001b[1;33m]\u001b[0m\u001b[1;33m-\u001b[0m\u001b[0mt_obs\u001b[0m\u001b[1;33m[\u001b[0m\u001b[1;36m0\u001b[0m\u001b[1;33m]\u001b[0m\u001b[1;33m)\u001b[0m\u001b[1;33m/\u001b[0m\u001b[1;36m0.5\u001b[0m\u001b[1;33m]\u001b[0m\u001b[1;33m)\u001b[0m\u001b[1;33m\u001b[0m\u001b[0m\n\u001b[0;32m     11\u001b[0m \u001b[1;33m\u001b[0m\u001b[0m\n",
        "\u001b[1;32m<ipython-input-4-cf2096cf98e5>\u001b[0m in \u001b[0;36mRungekutta4\u001b[1;34m(alfa, beta, km_1, km_2, S_0)\u001b[0m\n\u001b[0;32m     33\u001b[0m \u001b[1;33m\u001b[0m\u001b[0m\n\u001b[0;32m     34\u001b[0m \u001b[1;33m\u001b[0m\u001b[0m\n\u001b[1;32m---> 35\u001b[1;33m         \u001b[0mt_model\u001b[0m \u001b[1;33m=\u001b[0m \u001b[0mappend\u001b[0m\u001b[1;33m(\u001b[0m\u001b[0mt_model\u001b[0m\u001b[1;33m,\u001b[0m\u001b[0mt_model\u001b[0m\u001b[1;33m[\u001b[0m\u001b[0mi\u001b[0m\u001b[1;33m-\u001b[0m\u001b[1;36m1\u001b[0m\u001b[1;33m]\u001b[0m \u001b[1;33m+\u001b[0m \u001b[0mh\u001b[0m\u001b[1;33m)\u001b[0m\u001b[1;33m\u001b[0m\u001b[0m\n\u001b[0m\u001b[0;32m     36\u001b[0m         \u001b[0mp_model\u001b[0m \u001b[1;33m=\u001b[0m \u001b[0mappend\u001b[0m\u001b[1;33m(\u001b[0m\u001b[0mp_model\u001b[0m\u001b[1;33m,\u001b[0m\u001b[0mp_model\u001b[0m\u001b[1;33m[\u001b[0m\u001b[0mi\u001b[0m\u001b[1;33m-\u001b[0m\u001b[1;36m1\u001b[0m\u001b[1;33m]\u001b[0m \u001b[1;33m+\u001b[0m \u001b[0mh\u001b[0m\u001b[1;33m*\u001b[0m\u001b[0mpromedio\u001b[0m\u001b[1;33m)\u001b[0m\u001b[1;33m\u001b[0m\u001b[0m\n\u001b[0;32m     37\u001b[0m \u001b[1;33m\u001b[0m\u001b[0m\n",
        "\u001b[1;31mKeyboardInterrupt\u001b[0m: "
       ]
      }
     ],
     "prompt_number": 36
    },
    {
     "cell_type": "code",
     "collapsed": false,
     "input": [
      "Z = grid5.T\n",
      "\n",
      "fig, ax = plt.subplots()\n",
      "\n",
      "cnt = contour(Z, cmap=cm.RdBu, vmin=abs(Z).min(), vmax=abs(Z).max(), extent=[0, 1, 0, 1])\n",
      "\n",
      "xlabel(\"$Beta$\", size=15)\n",
      "ylabel(\"$km_1$\", size=15)"
     ],
     "language": "python",
     "metadata": {},
     "outputs": []
    },
    {
     "cell_type": "code",
     "collapsed": false,
     "input": [
      "def beta_km_2(x,y):\n",
      "    \n",
      "    dis6_chi2 = chi2(p_obs, filtrar(alfa_min,x,km_1_min,y,S_0_min)[0])\n",
      "    \n",
      "    return dis6_chi2"
     ],
     "language": "python",
     "metadata": {},
     "outputs": []
    },
    {
     "cell_type": "code",
     "collapsed": false,
     "input": [
      "grid6 = zeros((100,100))\n",
      "\n",
      "for i in range(100):\n",
      "    for j in range (100):\n",
      "        grid6[i,j] = beta_km_2(x0[i],y0[j])"
     ],
     "language": "python",
     "metadata": {},
     "outputs": []
    },
    {
     "cell_type": "code",
     "collapsed": false,
     "input": [
      "Z = grid6.T\n",
      "\n",
      "fig, ax = plt.subplots()\n",
      "\n",
      "cnt = contour(Z, cmap=cm.RdBu, vmin=abs(Z).min(), vmax=abs(Z).max(), extent=[0, 1, 0, 1])\n",
      "\n",
      "xlabel(\"$Beta$\", size=15)\n",
      "ylabel(\"$km_2$\", size=15)"
     ],
     "language": "python",
     "metadata": {},
     "outputs": []
    },
    {
     "cell_type": "code",
     "collapsed": false,
     "input": [
      "def beta_S_0(x,y):\n",
      "    \n",
      "    dis7_chi2 = chi2(p_obs, filtrar(alfa_min,x,km_1_min,km_2_min,y)[0])\n",
      "    \n",
      "    return dis7_chi2"
     ],
     "language": "python",
     "metadata": {},
     "outputs": []
    },
    {
     "cell_type": "code",
     "collapsed": false,
     "input": [
      "grid7 = zeros((100,100))\n",
      "\n",
      "for i in range(100):\n",
      "    for j in range (100):\n",
      "        grid7[i,j] = beta_S_0(x0[i],y0[j])"
     ],
     "language": "python",
     "metadata": {},
     "outputs": []
    },
    {
     "cell_type": "code",
     "collapsed": false,
     "input": [
      "Z = grid7.T\n",
      "\n",
      "fig, ax = plt.subplots()\n",
      "\n",
      "cnt = contour(Z, cmap=cm.RdBu, vmin=abs(Z).min(), vmax=abs(Z).max(), extent=[0, 1, 0, 1])\n",
      "\n",
      "xlabel(\"$Beta$\", size=15)\n",
      "ylabel(\"$S_0$\", size=15)"
     ],
     "language": "python",
     "metadata": {},
     "outputs": []
    },
    {
     "cell_type": "code",
     "collapsed": false,
     "input": [
      "def km_1_km_2(x,y):\n",
      "    \n",
      "    dis8_chi2 = chi2(p_obs, filtrar(alfa_min,beta_min,x,y,S_0_min)[0])\n",
      "    \n",
      "    return dis8_chi2"
     ],
     "language": "python",
     "metadata": {},
     "outputs": []
    },
    {
     "cell_type": "code",
     "collapsed": false,
     "input": [
      "grid8 = zeros((100,100))\n",
      "\n",
      "for i in range(100):\n",
      "    for j in range (100):\n",
      "        grid8[i,j] = km_1_km_2(x0[i],y0[j])"
     ],
     "language": "python",
     "metadata": {},
     "outputs": []
    },
    {
     "cell_type": "code",
     "collapsed": false,
     "input": [
      "Z = grid8.T\n",
      "\n",
      "fig, ax = plt.subplots()\n",
      "\n",
      "cnt = contour(Z, cmap=cm.RdBu, vmin=abs(Z).min(), vmax=abs(Z).max(), extent=[0, 1, 0, 1])\n",
      "\n",
      "xlabel(\"$km_1$\", size=15)\n",
      "ylabel(\"$km_2$\", size=15)"
     ],
     "language": "python",
     "metadata": {},
     "outputs": []
    },
    {
     "cell_type": "code",
     "collapsed": false,
     "input": [
      "def km_1_S_0(x,y):\n",
      "    \n",
      "    dis9_chi2 = chi2(p_obs, filtrar(alfa_min,beta_min,x,km_2_min,y)[0])\n",
      "    \n",
      "    return dis9_chi2"
     ],
     "language": "python",
     "metadata": {},
     "outputs": []
    },
    {
     "cell_type": "code",
     "collapsed": false,
     "input": [
      "grid9 = zeros((100,100))\n",
      "\n",
      "for i in range(100):\n",
      "    for j in range (100):\n",
      "        grid9[i,j] = km_1_S_0(x0[i],y0[j])"
     ],
     "language": "python",
     "metadata": {},
     "outputs": []
    },
    {
     "cell_type": "code",
     "collapsed": false,
     "input": [
      "Z = grid9.T\n",
      "\n",
      "fig, ax = plt.subplots()\n",
      "\n",
      "cnt = contour(Z, cmap=cm.RdBu, vmin=abs(Z).min(), vmax=abs(Z).max(), extent=[0, 1, 0, 1])\n",
      "\n",
      "xlabel(\"$km_1$\", size=15)\n",
      "ylabel(\"$S_0$\", size=15)"
     ],
     "language": "python",
     "metadata": {},
     "outputs": []
    },
    {
     "cell_type": "code",
     "collapsed": false,
     "input": [
      "def km_2_S_0(x,y):\n",
      "    \n",
      "    dis10_chi2 = chi2(p_obs, filtrar(alfa_min,beta_min,km_1_min,x,y)[0])\n",
      "    \n",
      "    return dis10_chi2"
     ],
     "language": "python",
     "metadata": {},
     "outputs": []
    },
    {
     "cell_type": "code",
     "collapsed": false,
     "input": [
      "grid10 = zeros((100,100))\n",
      "\n",
      "for i in range(100):\n",
      "    for j in range (100):\n",
      "        grid10[i,j] = km_2_S_0(x0[i],y0[j])"
     ],
     "language": "python",
     "metadata": {},
     "outputs": []
    },
    {
     "cell_type": "code",
     "collapsed": false,
     "input": [
      "Z = grid10.T\n",
      "\n",
      "fig, ax = plt.subplots()\n",
      "\n",
      "cnt = contour(Z, cmap=cm.RdBu, vmin=abs(Z).min(), vmax=abs(Z).max(), extent=[0, 1, 0, 1])\n",
      "\n",
      "xlabel(\"$km_2$\", size=15)\n",
      "ylabel(\"$S_0$\", size=15)"
     ],
     "language": "python",
     "metadata": {},
     "outputs": []
    },
    {
     "cell_type": "code",
     "collapsed": false,
     "input": [
      "incertidumbre_alfa = std(alfa_walk)\n",
      "print \"Incertidumbre alfa:  \", incertidumbre_alfa\n",
      "\n",
      "incertidumbre_beta = std(beta_walk)\n",
      "print \"Incertidumbre beta:  \", incertidumbre_beta\n",
      "\n",
      "incertidumbre_km1 = std(km_1_walk)\n",
      "print \"Incertudumbre km1:  \", incertidumbre_km1\n",
      "\n",
      "incertidumbre_km2 = std(km_2_walk)\n",
      "print \"Incertidumbre km2:  \", incertidumbre_km2\n",
      "\n",
      "incertidumbre_S0 = std(S_0_walk)\n",
      "print \"Incertidumbre S_0:  \", incertidumbre_S0"
     ],
     "language": "python",
     "metadata": {},
     "outputs": [
      {
       "output_type": "stream",
       "stream": "stdout",
       "text": [
        " Incertidumbre alfa:   0.138635102064\n",
        "Incertidumbre beta:   0.187232195185\n",
        "Incertudumbre km1:   0.465892148615\n",
        "Incertidumbre km2:   0.583449203181\n",
        "Incertidumbre S_0:   0.808383825435\n"
       ]
      }
     ],
     "prompt_number": 26
    }
   ],
   "metadata": {}
  }
 ]
}
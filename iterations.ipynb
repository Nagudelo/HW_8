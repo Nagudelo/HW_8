{
 "metadata": {
  "name": ""
 },
 "nbformat": 3,
 "nbformat_minor": 0,
 "worksheets": [
  {
   "cells": [
    {
     "cell_type": "code",
     "collapsed": false,
     "input": [
      "%pylab inline"
     ],
     "language": "python",
     "metadata": {},
     "outputs": [
      {
       "output_type": "stream",
       "stream": "stdout",
       "text": [
        "Populating the interactive namespace from numpy and matplotlib\n"
       ]
      }
     ],
     "prompt_number": 5
    },
    {
     "cell_type": "code",
     "collapsed": false,
     "input": [
      "def chi2(p_obs, p_model):\n",
      "    chi_squared = sum((y_obs-y_model)**2) \n",
      "    return chi_squared"
     ],
     "language": "python",
     "metadata": {},
     "outputs": [],
     "prompt_number": 6
    },
    {
     "cell_type": "code",
     "collapsed": false,
     "input": [
      "alfa_walk = empty((0)) #this is an empty list to keep all the steps\n",
      "beta_walk = empty((0))\n",
      "S_0_walk = empty((0))\n",
      "km_1_walk = empty((0))\n",
      "km_2_walk = empty((0))\n",
      "\n",
      "alfa_walk = append(alfa_walk, random.random())\n",
      "beta_walk = append(beta_walk, random.random())\n",
      "S_0_walk = append(S_0_walk, random.random())\n",
      "km_1_walk = append(km_1_walk, random.random())\n",
      "km_2_walk = append(km_2_walk, random.random())\n",
      "\n",
      "print alfa_walk\n",
      "print beta_walk\n",
      "print S_0_walk\n",
      "print km_1_walk\n",
      "print km_2_walk"
     ],
     "language": "python",
     "metadata": {},
     "outputs": [
      {
       "output_type": "stream",
       "stream": "stdout",
       "text": [
        "[ 0.25571603]\n",
        "[ 0.61019494]\n",
        "[ 0.84501541]\n",
        "[ 0.14864864]\n",
        "[ 0.69585141]\n"
       ]
      }
     ],
     "prompt_number": 8
    },
    {
     "cell_type": "code",
     "collapsed": false,
     "input": [
      "#Vamos a realizar interaciones para la estimaci\u00f3n de par\u00e1metros\n",
      "\n",
      "iterations = 20000\n",
      "\n",
      "for i in range(iterations):"
     ],
     "language": "python",
     "metadata": {},
     "outputs": []
    }
   ],
   "metadata": {}
  }
 ]
}
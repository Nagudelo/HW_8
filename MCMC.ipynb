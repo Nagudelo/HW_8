{
 "metadata": {
  "name": ""
 },
 "nbformat": 3,
 "nbformat_minor": 0,
 "worksheets": [
  {
   "cells": [
    {
     "cell_type": "code",
     "collapsed": false,
     "input": [
      "%pylab inline"
     ],
     "language": "python",
     "metadata": {},
     "outputs": [
      {
       "output_type": "stream",
       "stream": "stdout",
       "text": [
        "Populating the interactive namespace from numpy and matplotlib\n"
       ]
      }
     ],
     "prompt_number": 63
    },
    {
     "cell_type": "code",
     "collapsed": false,
     "input": [
      "#load the list of points\n",
      "obs_data = loadtxt(\"dimer_observations.dat\")\n",
      "t_obs = obs_data[:,0]\n",
      "p_obs = obs_data[:,1]\n",
      "\n",
      "scatter(t_obs,p_obs)"
     ],
     "language": "python",
     "metadata": {},
     "outputs": [
      {
       "metadata": {},
       "output_type": "pyout",
       "prompt_number": 64,
       "text": [
        "<matplotlib.collections.PathCollection at 0x34008d0>"
       ]
      },
      {
       "metadata": {},
       "output_type": "display_data",
       "png": "[encoded data removed]",
       "text": [
        "<matplotlib.figure.Figure at 0x1fa2dd0>"
       ]
      }
     ],
     "prompt_number": 64
    },
    {
     "cell_type": "code",
     "collapsed": false,
     "input": [
      "def fPrima(P, alfa, beta, S_0, km_1, km_2):\n",
      "    \n",
      "    primerTermino = alfa*(S_0 - P)/(km_1 + S_0 - P)\n",
      "    segundoTermino = beta*P/(km_2 + P)\n",
      "    \n",
      "    return (primerTermino - segundoTermino)"
     ],
     "language": "python",
     "metadata": {},
     "outputs": [],
     "prompt_number": 65
    },
    {
     "cell_type": "code",
     "collapsed": false,
     "input": [
      "def Rungekutta4 (alfa, beta, km_1, km_2, S_0):\n",
      "    \n",
      "    h=0.2\n",
      "    n_points = int((20.0+h)/h)\n",
      "    \n",
      "    t_model = zeros(n_points)\n",
      "    p_model = zeros(n_points)\n",
      "    \n",
      "    t_model[0] = t_obs[0]\n",
      "    p_model[0] = p_obs[0]\n",
      "    \n",
      "    for i in range(1, n_points):\n",
      "        \n",
      "        k1 = fPrima(p_model[i-1], alfa, beta, S_0, km_1, km_2)\n",
      "        \n",
      "        #primer paso\n",
      "        t1 = t_model[i-1]\n",
      "        p1 = p_model[i-1] + (h/2.0) * k1\n",
      "        k2 = fPrima(t1, alfa, beta, S_0, km_1, km_2)\n",
      "    \n",
      "        #second step\n",
      "        t2 = t_model[i-1] + (h/2.0)\n",
      "        p2 = p_model[i-1] + (h/2.0) * k2\n",
      "        k3 = fPrima(p2, alfa, beta, S_0, km_1, km_2)\n",
      "        \n",
      "        #third step\n",
      "        t3 = t_model[i-1] + h\n",
      "        p3 = p_model[i-1] + h * k3\n",
      "        k4 = fPrima(p3, alfa, beta, S_0, km_1, km_2)\n",
      "    \n",
      "        #fourth step\n",
      "        promedio = (1.0/6.0)*(k1 + 2.0*k2 + 2.0*k3 + k4)\n",
      "    \n",
      "        t_model[i] = t_model[i-1] + h\n",
      "        p_model[i] = p_model[i-1] + h *promedio\n",
      "        \n",
      "        \n",
      "        \n",
      "    return p_model, t_model"
     ],
     "language": "python",
     "metadata": {},
     "outputs": [],
     "prompt_number": 66
    },
    {
     "cell_type": "code",
     "collapsed": false,
     "input": [
      "def filtrar(alfa,beta, km_1, km_2, S_0):\n",
      "    h = 0\n",
      "    \n",
      "    pD_model = empty(0)\n",
      "    tD_model = empty(0)\n",
      "    \n",
      "    t_model = Rungekutta4(alfa,beta,km_1,km_2, S_0)[1]\n",
      "    p_model = Rungekutta4(alfa,beta,km_1,km_2, S_0)[0]\n",
      "    \n",
      "    for i in range(size(t_model)):\n",
      "        \n",
      "        if (t_model[i] == t_obs[h]):\n",
      "            tD_model = append(tD_model,t_model[i])\n",
      "            pD_model = append(pD_model,p_model[i])\n",
      "            h = h+1\n",
      "        \n",
      "    return pD_model, tD_model"
     ],
     "language": "python",
     "metadata": {},
     "outputs": [],
     "prompt_number": 67
    },
    {
     "cell_type": "code",
     "collapsed": false,
     "input": [
      "def chi2(p_obs, p_model):\n",
      "    \n",
      "    chi_squared = sum((p_obs-p_model)**2) \n",
      "    \n",
      "    return chi_squared"
     ],
     "language": "python",
     "metadata": {},
     "outputs": [],
     "prompt_number": 68
    },
    {
     "cell_type": "code",
     "collapsed": false,
     "input": [
      "alfa_walk = empty((0)) #this is an empty list to keep all the steps\n",
      "beta_walk = empty((0))\n",
      "S_0_walk = empty((0))\n",
      "km_1_walk = empty((0))\n",
      "km_2_walk = empty((0))\n",
      "\n",
      "alfa_walk = append(alfa_walk, random.random()*4)\n",
      "beta_walk = append(beta_walk, random.random()*4)\n",
      "S_0_walk = append(S_0_walk, random.random()*4)\n",
      "km_1_walk = append(km_1_walk, random.random()*4)\n",
      "km_2_walk = append(km_2_walk, random.random()*4)\n",
      "print alfa_walk, beta_walk,S_0_walk,km_1_walk,km_2_walk"
     ],
     "language": "python",
     "metadata": {},
     "outputs": [
      {
       "output_type": "stream",
       "stream": "stdout",
       "text": [
        "[ 2.27076494] [ 0.52655095] [ 0.19160348] [ 1.04452793] [ 3.84471409]\n"
       ]
      }
     ],
     "prompt_number": 113
    },
    {
     "cell_type": "code",
     "collapsed": false,
     "input": [
      "#Vamos a realizar interaciones para la estimaci\u00f3n de par\u00e1metros\n",
      "\n",
      "iterations = 10000\n",
      "\n",
      "for i in range(iterations):\n",
      "    \n",
      "    alfa_prime = np.random.normal(alfa_walk[i], 0.1) \n",
      "    beta_prime = np.random.normal(beta_walk[i], 0.1)\n",
      "    S_0_prime = np.random.normal(S_0_walk[i], 0.1)\n",
      "    km_1_prime = np.random.normal(km_1_walk[i], 0.1)\n",
      "    km_2_prime = np.random.normal(km_2_walk[i], 0.1)\n",
      "    \n",
      "    P_Rungekutta4_init = filtrar(alfa_walk[i], beta_walk[i], S_0_walk[i], km_1_walk[i], km_2_walk[i])[0]\n",
      "    P_Rungekutta4_prime = filtrar(alfa_prime, beta_prime, S_0_prime, km_1_prime, km_2_prime)[0]\n",
      "    t_Rungekutta4_init = filtrar(alfa_walk[i], beta_walk[i], S_0_walk[i], km_1_walk[i], km_2_walk[i])[1]\n",
      "    t_Rungekutta4_prime = filtrar(alfa_prime, beta_prime, S_0_prime, km_1_prime, km_2_prime)[1]\n",
      "    \n",
      "    \n",
      "    lam= chi2(p_obs, P_Rungekutta4_prime) - chi2(p_obs, P_Rungekutta4_init)\n",
      "    \n",
      "    if(lam <= 0.0):\n",
      "    \n",
      "        alfa_walk = append(alfa_walk, alfa_prime)\n",
      "        beta_walk = append(beta_walk, beta_prime)\n",
      "        S_0_walk = append(S_0_walk, S_0_prime)\n",
      "        km_1_walk = append(km_1_walk, km_1_prime)\n",
      "        km_2_walk = append(km_2_walk, km_2_prime)\n",
      "        \n",
      "    else:\n",
      "        gamma = random.random()\n",
      "        \n",
      "        if (gamma <= exp(-lam)):\n",
      "            alfa_walk = append(alfa_walk, alfa_prime)\n",
      "            beta_walk = append(beta_walk, beta_prime)\n",
      "            S_0_walk = append(S_0_walk, S_0_prime)\n",
      "            km_1_walk = append(km_1_walk, km_1_prime)\n",
      "            km_2_walk = append(km_2_walk, km_2_prime)\n",
      "            \n",
      "        else: \n",
      "            alfa_walk = append(alfa_walk, alfa_walk[i])\n",
      "            beta_walk = append(beta_walk, beta_walk[i])\n",
      "            S_0_walk = append(S_0_walk, S_0_walk[i])\n",
      "            km_1_walk = append(km_1_walk, km_1_walk[i])\n",
      "            km_2_walk = append(km_2_walk, km_2_walk[i])\n",
      "        \n",
      "        "
     ],
     "language": "python",
     "metadata": {},
     "outputs": [],
     "prompt_number": "*"
    },
    {
     "cell_type": "code",
     "collapsed": false,
     "input": [
      "print type(alfa_walk)"
     ],
     "language": "python",
     "metadata": {},
     "outputs": [],
     "prompt_number": "*"
    },
    {
     "cell_type": "code",
     "collapsed": false,
     "input": [
      "plot(alfa_walk,beta_walk,\"r\")\n",
      "plot(alfa_walk[0],beta_walk[0],\"yo\")\n",
      "plot(alfa_walk[-1],beta_walk[-1],\"co\")\n",
      "plot(alfa_walk[-2],beta_walk[-1],\"co\")\n",
      "plot(alfa_walk[-3],beta_walk[-1],\"co\")\n",
      "plot(alfa_walk[-4],beta_walk[-1],\"co\")\n",
      "plot(alfa_walk[-5],beta_walk[-1],\"co\")\n",
      "plot(alfa_walk[-6],beta_walk[-1],\"co\")\n",
      "plot(alfa_walk[-7],beta_walk[-1],\"co\")\n",
      "scatter(alfa_walk,beta_walk)\n",
      "plt.show()\n",
      "plt.close()\n",
      "plot(alfa_walk,km_1_walk,\"b\")\n",
      "print size(alfa_walk)"
     ],
     "language": "python",
     "metadata": {},
     "outputs": [],
     "prompt_number": "*"
    },
    {
     "cell_type": "code",
     "collapsed": false,
     "input": [
      "P=Rungekutta4(alfa_walk[-1],beta_walk[-1],km_1_walk[-1],km_2_walk[-1],S_0_walk[-1])[0]\n",
      "t=Rungekutta4(alfa_walk[-1],beta_walk[-1],km_1_walk[-1],km_2_walk[-1],S_0_walk[-1])[1]\n",
      "print (alfa_walk[-1],beta_walk[-1],km_1_walk[-1],km_2_walk[-1],S_0_walk[-1])"
     ],
     "language": "python",
     "metadata": {},
     "outputs": [],
     "prompt_number": "*"
    },
    {
     "cell_type": "code",
     "collapsed": false,
     "input": [
      "plot(t,P)\n",
      "scatter(t_obs,p_obs)\n"
     ],
     "language": "python",
     "metadata": {},
     "outputs": [
      {
       "metadata": {},
       "output_type": "pyout",
       "prompt_number": 109,
       "text": [
        "<matplotlib.collections.PathCollection at 0x3db6950>"
       ]
      },
      {
       "metadata": {},
       "output_type": "display_data",
       "png": "[encoded data removed]",
       "text": [
        "<matplotlib.figure.Figure at 0x372ba10>"
       ]
      }
     ],
     "prompt_number": 109
    },
    {
     "cell_type": "code",
     "collapsed": false,
     "input": [],
     "language": "python",
     "metadata": {},
     "outputs": []
    }
   ],
   "metadata": {}
  }
 ]
}
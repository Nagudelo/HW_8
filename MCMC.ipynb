{
 "metadata": {
  "name": ""
 },
 "nbformat": 3,
 "nbformat_minor": 0,
 "worksheets": [
  {
   "cells": [
    {
     "cell_type": "code",
     "collapsed": false,
     "input": [
      "%pylab inline"
     ],
     "language": "python",
     "metadata": {},
     "outputs": [
      {
       "output_type": "stream",
       "stream": "stdout",
       "text": [
        "Populating the interactive namespace from numpy and matplotlib\n"
       ]
      }
     ],
     "prompt_number": 24
    },
    {
     "cell_type": "code",
     "collapsed": false,
     "input": [
      "#load the list of points\n",
      "obs_data = loadtxt(\"dimer_observations.dat\")\n",
      "t_obs = obs_data[:,0]\n",
      "p_obs = obs_data[:,1]\n",
      "\n",
      "scatter(t_obs,p_obs)"
     ],
     "language": "python",
     "metadata": {},
     "outputs": [
      {
       "metadata": {},
       "output_type": "pyout",
       "prompt_number": 25,
       "text": [
        "<matplotlib.collections.PathCollection at 0x2dc4690>"
       ]
      },
      {
       "metadata": {},
       "output_type": "display_data",
       "png": "[encoded data removed]",
       "text": [
        "<matplotlib.figure.Figure at 0x2a68a10>"
       ]
      }
     ],
     "prompt_number": 25
    },
    {
     "cell_type": "code",
     "collapsed": false,
     "input": [
      "h=0.2\n",
      "n_points = int((2.0+h)/h)\n",
      "#t_model = zeros(n_points)\n",
      "#p_model = zeros(n_points)\n"
     ],
     "language": "python",
     "metadata": {},
     "outputs": [],
     "prompt_number": 38
    },
    {
     "cell_type": "code",
     "collapsed": false,
     "input": [
      "def fPrima(P, alfa, beta, S_0, km_1, km_2):\n",
      "    \n",
      "    primerTermino = alfa*(S_0 - P)/(km_1 + S_0 - P)\n",
      "    segundoTermino = beta*P/(km_2 + P)\n",
      "    \n",
      "    return (primerTermino - segundoTermino)"
     ],
     "language": "python",
     "metadata": {},
     "outputs": [],
     "prompt_number": 39
    },
    {
     "cell_type": "code",
     "collapsed": false,
     "input": [
      "def Rungekutta4 (alfa, beta, km_1, km_2, S_0):\n",
      "    \n",
      "    t_model[0] = t_obs[0]\n",
      "    p_model[0] = p_obs[0]\n",
      "    \n",
      "    for i in range(1, n_points):\n",
      "        \n",
      "        k1 = fPrima(p_model[i-1], alfa, beta, S_0, km_1, km_2)\n",
      "        \n",
      "        #primer paso\n",
      "        t1 = t_model[i-1]\n",
      "        p1 = p_model[i-1] + (h/2.0) * k1\n",
      "        k2 = fPrima(t1, alfa, beta, S_0, km_1, km_2)\n",
      "    \n",
      "        #second step\n",
      "        t2 = t_model[i-1] + (h/2.0)\n",
      "        p2 = p_model[i-1] + (h/2.0) * k2\n",
      "        k3 = fPrima(p2, alfa, beta, S_0, km_1, km_2)\n",
      "        \n",
      "        #third step\n",
      "        t3 = t_model[i-1] + h\n",
      "        p3 = p_model[i-1] + h * k3\n",
      "        k4 = fPrima(p3, alfa, beta, S_0, km_1, km_2)\n",
      "    \n",
      "        #fourth step\n",
      "        promedio = (1.0/6.0)*(k1 + 2.0*k2 + 2.0*k3 + k4)\n",
      "    \n",
      "        t_model[i] = t_model[i-1] + h\n",
      "        p_model[i] = p_model[i-1] + h *promedio\n",
      "        \n",
      "    return t_model, p_model   \n",
      "    "
     ],
     "language": "python",
     "metadata": {},
     "outputs": [],
     "prompt_number": 40
    },
    {
     "cell_type": "code",
     "collapsed": false,
     "input": [
      "t_model = Rungekutta4(54, 0, 4, 0, 0)[0]\n",
      "p_model = Rungekutta4(54, 0, 4, 0, 0)[1]\n",
      "\n",
      "scatter(t_model, p_model)"
     ],
     "language": "python",
     "metadata": {},
     "outputs": [
      {
       "metadata": {},
       "output_type": "pyout",
       "prompt_number": 45,
       "text": [
        "<matplotlib.collections.PathCollection at 0x3e786d0>"
       ]
      },
      {
       "metadata": {},
       "output_type": "display_data",
       "png": "[encoded data removed]",
       "text": [
        "<matplotlib.figure.Figure at 0x3d5f450>"
       ]
      }
     ],
     "prompt_number": 45
    },
    {
     "cell_type": "code",
     "collapsed": false,
     "input": [],
     "language": "python",
     "metadata": {},
     "outputs": []
    }
   ],
   "metadata": {}
  }
 ]
}